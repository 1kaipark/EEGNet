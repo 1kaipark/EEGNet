{
 "cells": [
  {
   "cell_type": "markdown",
   "metadata": {
    "collapsed": false
   },
   "source": [
    "OG PyTorch code by: Sriram Ravindran, sriram@ucsd.edu\n",
    "\n",
    "Original paper - https://arxiv.org/abs/1611.08024\n",
    "\n",
    "Please reach out to me if you spot an error."
   ]
  },
  {
   "cell_type": "markdown",
   "metadata": {},
   "source": [
    "# EEGNet core"
   ]
  },
  {
   "cell_type": "code",
   "execution_count": 1,
   "metadata": {
    "collapsed": true
   },
   "outputs": [],
   "source": [
    "# Boring ahh imports\n",
    "import numpy as np\n",
    "from sklearn.metrics import roc_auc_score, precision_score, recall_score, accuracy_score\n",
    "import torch\n",
    "import torch.nn as nn\n",
    "import torch.optim as optim\n",
    "from torch.autograd import Variable\n",
    "import torch.nn.functional as F\n",
    "import torch.optim as optim\n",
    "\n",
    "# MNE stuff\n",
    "import mne\n",
    "\n",
    "# sklearn\n",
    "from sklearn.model_selection import train_test_split\n",
    "from sklearn.preprocessing import StandardScaler\n",
    "from sklearn.metrics import roc_auc_score, precision_score, recall_score, accuracy_score, confusion_matrix, ConfusionMatrixDisplay\n",
    "\n",
    "import matplotlib.pyplot as plt"
   ]
  },
  {
   "cell_type": "markdown",
   "metadata": {},
   "source": [
    "#### Here's the description from the paper\n"
   ]
  },
  {
   "cell_type": "markdown",
   "metadata": {},
   "source": [
    "<img src=\"EEGNet.png\" style=\"width: 700px; float:left;\">"
   ]
  },
  {
   "cell_type": "markdown",
   "metadata": {},
   "source": [
    "#### the basic model + does it work?"
   ]
  },
  {
   "cell_type": "markdown",
   "metadata": {},
   "source": [
    "we create an EEGNet class, with 2 arguments - channels, and samples. \n",
    "- first convolution kernel will have a width corresponding to the number of EEG channels/samples\n",
    "- based on 'reshape value'- adjust fc1"
   ]
  },
  {
   "cell_type": "code",
   "execution_count": 2,
   "metadata": {},
   "outputs": [],
   "source": [
    "class EEGNet(nn.Module):\n",
    "    def __init__(self, channels, samples, verbose = False):\n",
    "        super(EEGNet, self).__init__()\n",
    "\n",
    "        self.kernellength = channels\n",
    "        self.T = samples # AKA samples\n",
    "\n",
    "        self.filter_sizing = 16\n",
    "\n",
    "        self.verbose = verbose\n",
    "        \n",
    "        # Layer 1\n",
    "        # input shape [n (?), kernel height, samples, kernel width]\n",
    "        # corresponds [n (?), kern. h (=1)., time pts, kern w = channels]\n",
    "        self.conv1 = nn.Conv2d(in_channels = 1, out_channels = self.filter_sizing, kernel_size = (1, self.kernellength), padding = 0)\n",
    "        self.batchnorm1 = nn.BatchNorm2d(self.filter_sizing, False)\n",
    "        \n",
    "        # Layer 2\n",
    "        self.padding1 = nn.ZeroPad2d((self.filter_sizing, 17, 0, 1))\n",
    "        self.conv2 = nn.Conv2d(in_channels = 1, out_channels = 4, kernel_size = (2, 32))\n",
    "        self.batchnorm2 = nn.BatchNorm2d(4, False)\n",
    "        self.pooling2 = nn.MaxPool2d(2, 4)\n",
    "\n",
    "        # Layer 3\n",
    "        self.padding2 = nn.ZeroPad2d((2, 1, 4, 3))\n",
    "        self.conv3 = nn.Conv2d(in_channels = 4, out_channels = 4, kernel_size = (8, 4))\n",
    "        self.batchnorm3 = nn.BatchNorm2d(4, False)\n",
    "        self.pooling3 = nn.MaxPool2d((2, 4))\n",
    "        \n",
    "        # FC Layer\n",
    "        # NOTE: This dimension will depend on the number of timestamps per sample in your data.\n",
    "        self.fc1 = nn.Linear(152, 1)\n",
    "        # NOTE: if error, sadly must recursively change the first value here to the \"reshape value\" in output\n",
    "\n",
    "    def forward(self, x):\n",
    "        # Layer 1\n",
    "        if self.verbose:\n",
    "            print(\"Layer 1 input:\", x.shape)\n",
    "\n",
    "        x = F.elu(self.conv1(x))\n",
    "        x = self.batchnorm1(x)\n",
    "        x = F.dropout(x, 0.25)\n",
    "        x = x.permute(0, 3, 1, 2)\n",
    "\n",
    "        if self.verbose:\n",
    "            print(\"Layer 1 output:\", x.shape)\n",
    "\n",
    "        # Layer 2\n",
    "        if self.verbose:\n",
    "            print(\"Layer 2 input:\", x.shape)\n",
    "\n",
    "        x = self.padding1(x)\n",
    "        x = F.elu(self.conv2(x))\n",
    "        x = self.batchnorm2(x)\n",
    "        x = F.dropout(x, 0.25)\n",
    "        x = self.pooling2(x)\n",
    "        \n",
    "        if self.verbose:\n",
    "            print(\"Layer 2 output:\", x.shape)\n",
    "\n",
    "        # Layer 3\n",
    "        if self.verbose:\n",
    "            print(\"Layer 3 input:\", x.shape)\n",
    "        x = self.padding2(x)\n",
    "        x = F.elu(self.conv3(x))\n",
    "        x = self.batchnorm3(x)\n",
    "        x = F.dropout(x, 0.25)\n",
    "        x = self.pooling3(x)\n",
    "        if self.verbose:\n",
    "            print(\"Layer 3 output:\", x.shape, \"layer 3 size: \", x.size)\n",
    "            print(f\"Size of x after pooling3: {x.shape}\")\n",
    "            print(f\"reshape value: {x.shape[1]*x.shape[2]*x.shape[3]}\")\n",
    "\n",
    "        # FC Layer\n",
    "        x = x.reshape(-1, x.shape[1]*x.shape[2]*x.shape[3])\n",
    "        if self.verbose:\n",
    "            print(\"FC Layer input:\", x.shape)\n",
    "            print(f\"testing {self.fc1}\")\n",
    "\n",
    "        x = F.sigmoid(self.fc1(x))\n",
    "\n",
    "        if self.verbose:\n",
    "            print(\"FC Layer output:\", x.shape)\n",
    "        return x\n",
    "\n"
   ]
  },
  {
   "cell_type": "code",
   "execution_count": 3,
   "metadata": {},
   "outputs": [
    {
     "name": "stdout",
     "output_type": "stream",
     "text": [
      "Layer 1 input: torch.Size([32, 1, 300, 62])\n",
      "Layer 1 output: torch.Size([32, 1, 16, 300])\n",
      "Layer 2 input: torch.Size([32, 1, 16, 300])\n",
      "Layer 2 output: torch.Size([32, 4, 4, 76])\n",
      "Layer 3 input: torch.Size([32, 4, 4, 76])\n",
      "Layer 3 output: torch.Size([32, 4, 2, 19]) layer 3 size:  <built-in method size of Tensor object at 0x15fcdc9a0>\n",
      "Size of x after pooling3: torch.Size([32, 4, 2, 19])\n",
      "reshape value: 152\n",
      "FC Layer input: torch.Size([32, 152])\n",
      "testing Linear(in_features=152, out_features=1, bias=True)\n",
      "FC Layer output: torch.Size([32, 1])\n",
      "tensor([[0.7649],\n",
      "        [0.9414],\n",
      "        [0.8487],\n",
      "        [0.5733],\n",
      "        [0.8194],\n",
      "        [0.8477],\n",
      "        [0.8225],\n",
      "        [0.9449],\n",
      "        [0.7873],\n",
      "        [0.6592],\n",
      "        [0.6261],\n",
      "        [0.7331],\n",
      "        [0.8126],\n",
      "        [0.7337],\n",
      "        [0.5424],\n",
      "        [0.8466],\n",
      "        [0.9148],\n",
      "        [0.6950],\n",
      "        [0.8153],\n",
      "        [0.9132],\n",
      "        [0.7402],\n",
      "        [0.7115],\n",
      "        [0.7509],\n",
      "        [0.7933],\n",
      "        [0.8370],\n",
      "        [0.6744],\n",
      "        [0.8282],\n",
      "        [0.7052],\n",
      "        [0.7800],\n",
      "        [0.5520],\n",
      "        [0.5660],\n",
      "        [0.9028]], grad_fn=<SigmoidBackward0>)\n"
     ]
    }
   ],
   "source": [
    "# instantiate model + brief test, retro-fit reshape value if you change channels + samples\n",
    "testkern = 62\n",
    "testT = 300\n",
    "testmodel = EEGNet(channels=testkern, samples=testT, verbose = True)\n",
    "print (testmodel.forward(Variable(torch.Tensor(np.random.rand(32, 1, testT, testkern))))) # again, n, kern height, samples, kern width/EEG channels/electrodes"
   ]
  },
  {
   "cell_type": "markdown",
   "metadata": {},
   "source": [
    "#### Evaluate function returns values of different criteria like accuracy, precision etc. \n",
    "In case you face memory overflow issues, use batch size to control how many samples get evaluated at one time. Use a batch_size that is a factor of length of samples. This ensures that you won't miss any samples."
   ]
  },
  {
   "cell_type": "code",
   "execution_count": 4,
   "metadata": {
    "collapsed": true
   },
   "outputs": [],
   "source": [
    "def evaluate(net, batch_size, X, Y, params = [\"acc\"]):\n",
    "    \n",
    "    results = []\n",
    "    predicted = []\n",
    "    \n",
    "    for i in range(len(X) // batch_size):\n",
    "        s = i*batch_size\n",
    "        e = i*batch_size+batch_size\n",
    "        \n",
    "        inputs = Variable(torch.from_numpy(X[s:e]))\n",
    "        pred = net(inputs)\n",
    "        \n",
    "        predicted.append(pred.data.cpu().numpy())\n",
    "        \n",
    "        \n",
    "    inputs = Variable(torch.from_numpy(X))\n",
    "    predicted = net(inputs)\n",
    "    \n",
    "    predicted = predicted.data.cpu().numpy()\n",
    "    \n",
    "    for param in params:\n",
    "        if param == 'acc':\n",
    "            results.append(accuracy_score(Y, np.round(predicted)))\n",
    "        if param == \"auc\":\n",
    "            results.append(roc_auc_score(Y, predicted))\n",
    "        if param == \"recall\":\n",
    "            results.append(recall_score(Y, np.round(predicted)))\n",
    "        if param == \"precision\":\n",
    "            results.append(precision_score(Y, np.round(predicted)))\n",
    "        if param == \"fmeasure\":\n",
    "            precision = precision_score(Y, np.round(predicted))\n",
    "            recall = recall_score(Y, np.round(predicted))\n",
    "            results.append(2*precision*recall/ (precision+recall))\n",
    "    return results"
   ]
  },
  {
   "cell_type": "markdown",
   "metadata": {},
   "source": [
    "#### Run"
   ]
  },
  {
   "cell_type": "markdown",
   "metadata": {},
   "source": [
    "##### run method (same code, just packed into a method)"
   ]
  },
  {
   "cell_type": "code",
   "execution_count": 5,
   "metadata": {},
   "outputs": [],
   "source": [
    "def run_net(net, batch_size, num_train_epochs, optimizer, criterion, X_train, y_train, X_val, y_val, X_test, y_test, title, plot = False):\n",
    "\n",
    "    # batch_size = 32\n",
    "    train_accuracy_scores = []\n",
    "    val_accuracy_scores = []\n",
    "    test_accuracy_scores = []\n",
    "    training_loss_scores = []\n",
    "\n",
    "    for epoch in range(num_train_epochs):  # loop over the dataset multiple times\n",
    "        print (\"\\nEpoch \", epoch)\n",
    "        \n",
    "        running_loss = 0.0\n",
    "        for i in range(len(X_train) // batch_size-1):\n",
    "            s = i * batch_size\n",
    "            e = i * batch_size+batch_size\n",
    "            \n",
    "            inputs = torch.from_numpy(X_train[s:e])\n",
    "            labels = torch.FloatTensor(np.array([y_train[s:e]]).T * 1.0)\n",
    "            \n",
    "            # wrap them in Variable\n",
    "            inputs, labels = Variable(inputs), Variable(labels)\n",
    "\n",
    "            # zero the parameter gradients\n",
    "            optimizer.zero_grad()\n",
    "\n",
    "            # forward + backward + optimize\n",
    "            outputs = net(inputs)\n",
    "            print(f\"outputs.shape: {outputs.shape}\")\n",
    "            loss = criterion(outputs, labels)\n",
    "            loss.backward()\n",
    "            \n",
    "            \n",
    "            optimizer.step()\n",
    "            \n",
    "            # running_loss += loss.data[0]\n",
    "            running_loss += loss.item()\n",
    "        \n",
    "        # Validation accuracy\n",
    "        params = [\"acc\", \"auc\", \"fmeasure\"]\n",
    "        print (params)\n",
    "        print (\"Training Loss \", running_loss)\n",
    "        training_loss_scores.append(running_loss)\n",
    "\n",
    "        train_results = evaluate(net, batch_size, X_train, y_train, params)\n",
    "        print (\"Train - \", train_results)\n",
    "        train_accuracy_scores.append(train_results[0])\n",
    "\n",
    "        val_results = evaluate(net, batch_size, X_val, y_val, params)\n",
    "        print (\"Validation - \", val_results)\n",
    "        val_accuracy_scores.append(val_results[0])\n",
    "\n",
    "        test_results = evaluate(net, batch_size, X_test, y_test, params)\n",
    "        print (\"Test - \", test_results)\n",
    "        test_accuracy_scores.append(test_results[0])\n",
    "    \n",
    "    if plot:\n",
    "        plt.figure(figsize=(15, 5))\n",
    "\n",
    "        # train and validation acc\n",
    "        plt.subplot(1, 3, 1)\n",
    "        plt.plot(range(num_train_epochs), train_accuracy_scores, label = 'train accuracy')\n",
    "        plt.plot(range(num_train_epochs), val_accuracy_scores, label = 'val accuracy')\n",
    "\n",
    "        plt.xlabel('epoch')\n",
    "        plt.ylabel('accuracy')\n",
    "\n",
    "        plt.legend()\n",
    "        plt.title(f'train + val accuracy vs. epoch {title}')\n",
    "\n",
    "        # test accuracy\n",
    "        plt.subplot(1, 3, 2)\n",
    "        plt.plot(range(num_train_epochs), test_accuracy_scores, label = 'test accuracy')\n",
    "\n",
    "        plt.xlabel('epoch')\n",
    "        plt.ylabel('test accuracy')\n",
    "        \n",
    "        plt.legend()\n",
    "        plt.title(f'test accuracy vs epoch {title}')\n",
    "        \n",
    "        # plot running loss\n",
    "        plt.subplot(1, 3, 3)\n",
    "        plt.plot(range(num_train_epochs), training_loss_scores, label = 'training loss')\n",
    "\n",
    "        plt.xlabel('epoch')\n",
    "        plt.ylabel('training loss score')\n",
    "        \n",
    "        plt.legend()\n",
    "        plt.title(f'training loss vs epoch {title}')\n",
    "\n",
    "        plt.tight_layout()\n",
    "        plt.show()\n"
   ]
  },
  {
   "cell_type": "markdown",
   "metadata": {},
   "source": [
    "clean way to import datasets? (tailored to MBT42)"
   ]
  },
  {
   "cell_type": "code",
   "execution_count": 6,
   "metadata": {},
   "outputs": [],
   "source": [
    "def split_epochs(epochs, train_percent):\n",
    "    labels = epochs.metadata['label'].values\n",
    "    labels = labels - 1\n",
    "\n",
    "    X = epochs.get_data().astype('float32')\n",
    "    print(X.shape)\n",
    "    # X = X.transpose((1, 0, 2, 3))\n",
    "    X = X.reshape(X.shape[0], 1, X.shape[1], X.shape[2]) # 62 electrodes and 300 samples\n",
    "    X = X.transpose(0, 1, 3, 2) # input shape of [n, 1, samples, channels]\n",
    "    y = labels\n",
    "\n",
    "    print(X.shape)\n",
    "    print(y.shape)\n",
    "\n",
    "    X_train, X_temp, y_train, y_temp = train_test_split(X, y, test_size = 1-train_percent, random_state = 42)\n",
    "    X_val, X_test, y_val, y_test = train_test_split (X_temp, y_temp, test_size = 0.5, random_state = 42)\n",
    "\n",
    "    return X_train, y_train, X_val, y_val, X_test, y_test\n"
   ]
  },
  {
   "cell_type": "markdown",
   "metadata": {},
   "source": [
    "code to plot confusion matrix"
   ]
  },
  {
   "cell_type": "code",
   "execution_count": 7,
   "metadata": {},
   "outputs": [],
   "source": [
    "def get_confusion_matrix(net, X_test, y_test):\n",
    "    # Get the predictions on the test data\n",
    "    inputs = torch.from_numpy(X_test)\n",
    "    predicted = net(inputs)\n",
    "    predicted = predicted.data.cpu().numpy()\n",
    "\n",
    "    # Round the predictions to get binary values (0 or 1)\n",
    "    preds = np.round(predicted)\n",
    "\n",
    "\n",
    "    # Calculate the confusion matrix\n",
    "    conf_matrix = confusion_matrix(y_test, preds)\n",
    "    print(\"conf matrix:\")\n",
    "    print(conf_matrix)\n",
    "\n",
    "    classes = [0, 1]  # Assuming binary classification with class labels 0 and 1\n",
    "    disp = ConfusionMatrixDisplay(confusion_matrix=conf_matrix, display_labels=classes)\n",
    "    disp.plot(cmap=plt.cm.Blues, values_format=\".0f\")\n",
    "\n",
    "    plt.title(\"CONFUSION MATRIX\")\n",
    "    plt.xlabel(\"Predicted Label\")\n",
    "    plt.ylabel(\"True Label\")\n",
    "    plt.show()"
   ]
  },
  {
   "cell_type": "markdown",
   "metadata": {},
   "source": [
    "#### importing real data"
   ]
  },
  {
   "cell_type": "code",
   "execution_count": 8,
   "metadata": {},
   "outputs": [
    {
     "name": "stdout",
     "output_type": "stream",
     "text": [
      "Reading /Users/applelaptop/Desktop/MNE/data/S1_Session_1_3s_epochs.fif ...\n",
      "Isotrak not found\n"
     ]
    },
    {
     "name": "stderr",
     "output_type": "stream",
     "text": [
      "/var/folders/3b/20z0s3dd3q153fvzct3hchb00000gn/T/ipykernel_70384/3916740060.py:1: RuntimeWarning: This filename (data/S1_Session_1_3s_epochs.fif) does not conform to MNE naming conventions. All epochs files should end with -epo.fif, -epo.fif.gz, _epo.fif or _epo.fif.gz\n",
      "  epochs1 = mne.read_epochs('data/S1_Session_1_3s_epochs.fif')\n"
     ]
    },
    {
     "name": "stdout",
     "output_type": "stream",
     "text": [
      "    Found the data of interest:\n",
      "        t =       0.00 ...    2990.00 ms\n",
      "        0 CTF compensation matrices available\n",
      "Adding metadata with 5 columns\n",
      "125 matching events found\n",
      "No baseline correction applied\n",
      "0 projection items activated\n",
      "Reading /Users/applelaptop/Desktop/MNE/data/S1_Session_2_3s_epochs.fif ...\n",
      "Isotrak not found\n",
      "    Found the data of interest:\n",
      "        t =       0.00 ...    2990.00 ms\n",
      "        0 CTF compensation matrices available\n",
      "Adding metadata with 5 columns\n",
      "125 matching events found\n",
      "No baseline correction applied\n",
      "0 projection items activated\n",
      "Reading /Users/applelaptop/Desktop/MNE/data/S1_Session_3_3s_epochs.fif ...\n",
      "Isotrak not found\n",
      "    Found the data of interest:\n",
      "        t =       0.00 ...    2990.00 ms\n",
      "        0 CTF compensation matrices available\n",
      "Adding metadata with 5 columns\n",
      "125 matching events found\n",
      "No baseline correction applied\n",
      "0 projection items activated\n",
      "Adding metadata with 5 columns\n",
      "375 matching events found\n",
      "No baseline correction applied\n"
     ]
    },
    {
     "name": "stderr",
     "output_type": "stream",
     "text": [
      "/var/folders/3b/20z0s3dd3q153fvzct3hchb00000gn/T/ipykernel_70384/3916740060.py:2: RuntimeWarning: This filename (data/S1_Session_2_3s_epochs.fif) does not conform to MNE naming conventions. All epochs files should end with -epo.fif, -epo.fif.gz, _epo.fif or _epo.fif.gz\n",
      "  epochs2 = mne.read_epochs('data/S1_Session_2_3s_epochs.fif')\n",
      "/var/folders/3b/20z0s3dd3q153fvzct3hchb00000gn/T/ipykernel_70384/3916740060.py:3: RuntimeWarning: This filename (data/S1_Session_3_3s_epochs.fif) does not conform to MNE naming conventions. All epochs files should end with -epo.fif, -epo.fif.gz, _epo.fif or _epo.fif.gz\n",
      "  epochs3 = mne.read_epochs('data/S1_Session_3_3s_epochs.fif')\n"
     ]
    }
   ],
   "source": [
    "epochs1 = mne.read_epochs('data/S1_Session_1_3s_epochs.fif')\n",
    "epochs2 = mne.read_epochs('data/S1_Session_2_3s_epochs.fif')\n",
    "epochs3 = mne.read_epochs('data/S1_Session_3_3s_epochs.fif')\n",
    "\n",
    "epochs = mne.concatenate_epochs([epochs1, epochs2, epochs3])\n"
   ]
  },
  {
   "cell_type": "code",
   "execution_count": 9,
   "metadata": {},
   "outputs": [
    {
     "name": "stdout",
     "output_type": "stream",
     "text": [
      "(375, 62, 300)\n",
      "(375, 1, 300, 62)\n",
      "(375,)\n",
      "\n",
      "Epoch  0\n",
      "outputs.shape: torch.Size([25, 1])\n",
      "outputs.shape: torch.Size([25, 1])\n",
      "outputs.shape: torch.Size([25, 1])\n",
      "outputs.shape: torch.Size([25, 1])\n",
      "outputs.shape: torch.Size([25, 1])\n",
      "outputs.shape: torch.Size([25, 1])\n",
      "outputs.shape: torch.Size([25, 1])\n",
      "outputs.shape: torch.Size([25, 1])\n",
      "outputs.shape: torch.Size([25, 1])\n",
      "outputs.shape: torch.Size([25, 1])\n",
      "outputs.shape: torch.Size([25, 1])\n",
      "['acc', 'auc', 'fmeasure']\n",
      "Training Loss  7.418505072593689\n",
      "Train -  [0.62, 0.6955728587319243, 0.5581395348837209]\n",
      "Validation -  [0.5945945945945946, 0.5701754385964912, 0.4827586206896552]\n",
      "Test -  [0.5526315789473685, 0.4345238095238095, 0.2608695652173913]\n",
      "\n",
      "Epoch  1\n",
      "outputs.shape: torch.Size([25, 1])\n",
      "outputs.shape: torch.Size([25, 1])\n",
      "outputs.shape: torch.Size([25, 1])\n",
      "outputs.shape: torch.Size([25, 1])\n",
      "outputs.shape: torch.Size([25, 1])\n",
      "outputs.shape: torch.Size([25, 1])\n",
      "outputs.shape: torch.Size([25, 1])\n",
      "outputs.shape: torch.Size([25, 1])\n",
      "outputs.shape: torch.Size([25, 1])\n",
      "outputs.shape: torch.Size([25, 1])\n",
      "outputs.shape: torch.Size([25, 1])\n",
      "['acc', 'auc', 'fmeasure']\n",
      "Training Loss  7.039247691631317\n",
      "Train -  [0.71, 0.7612013348164628, 0.716612377850163]\n",
      "Validation -  [0.5945945945945946, 0.6432748538011696, 0.5454545454545454]\n",
      "Test -  [0.5, 0.5059523809523809, 0.3870967741935484]\n",
      "\n",
      "Epoch  2\n",
      "outputs.shape: torch.Size([25, 1])\n",
      "outputs.shape: torch.Size([25, 1])\n",
      "outputs.shape: torch.Size([25, 1])\n",
      "outputs.shape: torch.Size([25, 1])\n",
      "outputs.shape: torch.Size([25, 1])\n",
      "outputs.shape: torch.Size([25, 1])\n",
      "outputs.shape: torch.Size([25, 1])\n",
      "outputs.shape: torch.Size([25, 1])\n",
      "outputs.shape: torch.Size([25, 1])\n",
      "outputs.shape: torch.Size([25, 1])\n",
      "outputs.shape: torch.Size([25, 1])\n",
      "['acc', 'auc', 'fmeasure']\n",
      "Training Loss  6.465059995651245\n",
      "Train -  [0.76, 0.8373303670745273, 0.7844311377245509]\n",
      "Validation -  [0.6756756756756757, 0.7602339181286549, 0.6470588235294118]\n",
      "Test -  [0.5789473684210527, 0.7023809523809523, 0.5555555555555556]\n",
      "\n",
      "Epoch  3\n",
      "outputs.shape: torch.Size([25, 1])\n",
      "outputs.shape: torch.Size([25, 1])\n",
      "outputs.shape: torch.Size([25, 1])\n",
      "outputs.shape: torch.Size([25, 1])\n",
      "outputs.shape: torch.Size([25, 1])\n",
      "outputs.shape: torch.Size([25, 1])\n",
      "outputs.shape: torch.Size([25, 1])\n",
      "outputs.shape: torch.Size([25, 1])\n",
      "outputs.shape: torch.Size([25, 1])\n",
      "outputs.shape: torch.Size([25, 1])\n",
      "outputs.shape: torch.Size([25, 1])\n",
      "['acc', 'auc', 'fmeasure']\n",
      "Training Loss  5.240099459886551\n",
      "Train -  [0.8, 0.8854282536151279, 0.8026315789473685]\n",
      "Validation -  [0.7297297297297297, 0.7923976608187135, 0.7058823529411765]\n",
      "Test -  [0.7368421052631579, 0.8125, 0.7058823529411764]\n",
      "\n",
      "Epoch  4\n",
      "outputs.shape: torch.Size([25, 1])\n",
      "outputs.shape: torch.Size([25, 1])\n",
      "outputs.shape: torch.Size([25, 1])\n",
      "outputs.shape: torch.Size([25, 1])\n",
      "outputs.shape: torch.Size([25, 1])\n",
      "outputs.shape: torch.Size([25, 1])\n",
      "outputs.shape: torch.Size([25, 1])\n",
      "outputs.shape: torch.Size([25, 1])\n",
      "outputs.shape: torch.Size([25, 1])\n",
      "outputs.shape: torch.Size([25, 1])\n",
      "outputs.shape: torch.Size([25, 1])\n",
      "['acc', 'auc', 'fmeasure']\n",
      "Training Loss  4.696773290634155\n",
      "Train -  [0.8733333333333333, 0.9244493882091213, 0.8789808917197452]\n",
      "Validation -  [0.8378378378378378, 0.8888888888888888, 0.823529411764706]\n",
      "Test -  [0.7368421052631579, 0.8154761904761905, 0.6875000000000001]\n",
      "\n",
      "Epoch  5\n",
      "outputs.shape: torch.Size([25, 1])\n",
      "outputs.shape: torch.Size([25, 1])\n",
      "outputs.shape: torch.Size([25, 1])\n",
      "outputs.shape: torch.Size([25, 1])\n",
      "outputs.shape: torch.Size([25, 1])\n",
      "outputs.shape: torch.Size([25, 1])\n",
      "outputs.shape: torch.Size([25, 1])\n",
      "outputs.shape: torch.Size([25, 1])\n",
      "outputs.shape: torch.Size([25, 1])\n",
      "outputs.shape: torch.Size([25, 1])\n",
      "outputs.shape: torch.Size([25, 1])\n",
      "['acc', 'auc', 'fmeasure']\n",
      "Training Loss  3.8808206617832184\n",
      "Train -  [0.8833333333333333, 0.952480533926585, 0.8881789137380192]\n",
      "Validation -  [0.8378378378378378, 0.9298245614035088, 0.823529411764706]\n",
      "Test -  [0.7368421052631579, 0.8660714285714286, 0.7058823529411764]\n"
     ]
    },
    {
     "data": {
      "image/png": "[encoded data removed]",
      "text/plain": [
       "<Figure size 1500x500 with 3 Axes>"
      ]
     },
     "metadata": {},
     "output_type": "display_data"
    },
    {
     "name": "stdout",
     "output_type": "stream",
     "text": [
      "conf matrix:\n",
      "[[17  7]\n",
      " [ 2 12]]\n"
     ]
    },
    {
     "data": {
      "image/png": "[encoded data removed]",
      "text/plain": [
       "<Figure size 640x480 with 2 Axes>"
      ]
     },
     "metadata": {},
     "output_type": "display_data"
    }
   ],
   "source": [
    "X_train, y_train, X_val, y_val, X_test, y_test = split_epochs(epochs, 0.8)\n",
    "\n",
    "# create model\n",
    "model = EEGNet(62, 300)\n",
    "criterion = nn.BCELoss()\n",
    "optimizer = optim.Adam(model.parameters())\n",
    "\n",
    "batch_size = 25\n",
    "num_train_epochs = 6\n",
    "\n",
    "# could do new models for each session or continue to train the model defined above, which I'm doing here:\n",
    "\n",
    "run_net(model, batch_size, num_train_epochs, optimizer, criterion, X_train, y_train, X_val, y_val, X_test, y_test, 'MBT42', plot = True)\n",
    "\n",
    "get_confusion_matrix(model, X_test, y_test)"
   ]
  },
  {
   "cell_type": "code",
   "execution_count": 10,
   "metadata": {},
   "outputs": [
    {
     "ename": "AssertionError",
     "evalue": "fjaglkjjflakjk",
     "output_type": "error",
     "traceback": [
      "\u001b[0;31m---------------------------------------------------------------------------\u001b[0m",
      "\u001b[0;31mAssertionError\u001b[0m                            Traceback (most recent call last)",
      "Cell \u001b[0;32mIn[10], line 1\u001b[0m\n\u001b[0;32m----> 1\u001b[0m \u001b[39massert\u001b[39;00m \u001b[39mFalse\u001b[39;00m, \u001b[39m\"\u001b[39m\u001b[39mfjaglkjjflakjk\u001b[39m\u001b[39m\"\u001b[39m\n",
      "\u001b[0;31mAssertionError\u001b[0m: fjaglkjjflakjk"
     ]
    }
   ],
   "source": [
    "assert False, \"fjaglkjjflakjk\""
   ]
  },
  {
   "cell_type": "markdown",
   "metadata": {},
   "source": [
    "# CHATGPT BREAKDOWN:\n"
   ]
  },
  {
   "cell_type": "markdown",
   "metadata": {},
   "source": [
    "1. Importing Libraries: The code begins by importing various libraries used in the implementation, including NumPy, PyTorch, MNE (a library for EEG/MEG data analysis), and scikit-learn for machine learning tasks.\n",
    "\n",
    "2. EEGNet Class Definition: The code defines a PyTorch neural network class called `EEGNet`. This class is responsible for building the architecture of the EEGNet model. The model architecture consists of three convolutional layers and one fully connected layer.\n",
    "\n",
    "3. Forward Function: The `forward` function defines the forward pass of the neural network, which specifies how input data flows through the layers of the model. The function applies convolution, batch normalization, ELU activation, and dropout operations for each layer.\n",
    "\n",
    "4. Instantiate the Model: After defining the `EEGNet` class, the code instantiates the model by creating an instance of the `EEGNet` class. The model is created with specific channel and sample dimensions (62 channels and 300 samples in this case).\n",
    "\n",
    "5. Data Preprocessing: Next, the code reads EEG epochs and events data using the MNE library. The EEG data is then converted to a PyTorch tensor and preprocessed by normalizing the data to float32 format.\n",
    "\n",
    "6. Train-Test Split: The EEG data is split into training, validation, and testing sets using the `train_test_split` function from scikit-learn.\n",
    "\n",
    "7. Training the Model: The `run_net` function is responsible for training the EEGNet model. It performs a specified number of training epochs, optimizing the model's parameters using the Adam optimizer and minimizing the binary cross-entropy loss (BCELoss).\n",
    "\n",
    "8. Evaluation: During training, the model's performance is evaluated on training, validation, and testing data after each epoch. The evaluation metrics used are accuracy, area under the ROC curve (AUC), and F1-score (fmeasure).\n",
    "\n",
    "9. Running the Training: The `run_net` function is called with the training, validation, and testing data to train and evaluate the EEGNet model on the provided data.\n",
    "\n",
    "Overall, the code performs the following steps:\n",
    "- Defines the EEGNet model architecture using PyTorch.\n",
    "- Reads EEG data and preprocesses it using MNE and NumPy.\n",
    "- Splits the data into training, validation, and testing sets.\n",
    "- Trains the EEGNet model on the training data and evaluates its performance on the validation and testing sets.\n",
    "\n",
    "Keep in mind that this code seems to be designed for a binary classification problem (possibly for EEG-based classification of two classes). The code prints out the size of the tensor at various stages to help understand the shape of the data and tensors at each step of the process. It uses BCELoss as the loss function, which is suitable for binary classification tasks.\n",
    "\n",
    "Please note that the evaluation metrics may vary depending on the specific problem and dataset."
   ]
  },
  {
   "cell_type": "markdown",
   "metadata": {},
   "source": []
  }
 ],
 "metadata": {
  "kernelspec": {
   "display_name": "base",
   "language": "python",
   "name": "python3"
  },
  "language_info": {
   "codemirror_mode": {
    "name": "ipython",
    "version": 3
   },
   "file_extension": ".py",
   "mimetype": "text/x-python",
   "name": "python",
   "nbconvert_exporter": "python",
   "pygments_lexer": "ipython3",
   "version": "3.10.9"
  }
 },
 "nbformat": 4,
 "nbformat_minor": 0
}
